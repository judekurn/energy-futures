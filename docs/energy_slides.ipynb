{
 "cells": [
  {
   "cell_type": "markdown",
   "metadata": {
    "slideshow": {
     "slide_type": "slide"
    }
   },
   "source": [
    "# Canada Low Carbon Energy Scenarios\n",
    "## Pathways Diagram\n",
    "### University of Waterloo\n",
    "\n"
   ]
  },
  {
   "cell_type": "markdown",
   "metadata": {
    "slideshow": {
     "slide_type": "slide"
    }
   },
   "source": [
    "# Population (Global)\n",
    "\n",
    "Global population is defined as the total number of people living in the world, the range of pathways thru 2100 are defined as follows:\n",
    "\n",
    "* A: High Pathways - Population > 13 billion people by 2100\n",
    "* B: Medium Pathways  - Population 8-13 billion people by 2100\n",
    "* C: Low Pathways - Population < 8 billion people by 2100"
   ]
  },
  {
   "cell_type": "markdown",
   "metadata": {
    "slideshow": {
     "slide_type": "slide"
    }
   },
   "source": [
    "Slide Type\n",
    "Population (Global)\n",
    "Global population is defined as the total number of people living in the world, the range of pathways thru 2100 are defined as follows:\n",
    "\n",
    "A: High Pathways - Population > 13 billion people by 2100\n",
    "B: Medium Pathways - Population 8-13 billion people by 2100\n",
    "C: Low Pathways - Population < 8 billion people by 2100"
   ]
  }
 ],
 "metadata": {
  "celltoolbar": "Slideshow",
  "kernelspec": {
   "display_name": "Python 3",
   "language": "python",
   "name": "python3"
  },
  "language_info": {
   "codemirror_mode": {
    "name": "ipython",
    "version": 3
   },
   "file_extension": ".py",
   "mimetype": "text/x-python",
   "name": "python",
   "nbconvert_exporter": "python",
   "pygments_lexer": "ipython3",
   "version": "3.6.4"
  }
 },
 "nbformat": 4,
 "nbformat_minor": 2
}
